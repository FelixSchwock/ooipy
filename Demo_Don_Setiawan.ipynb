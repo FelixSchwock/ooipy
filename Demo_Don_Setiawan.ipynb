{
 "cells": [
  {
   "cell_type": "markdown",
   "metadata": {},
   "source": [
    "# Code Demonstrating Functionality of Acquiring Data\n",
    "Excerpts from demo.ipynb selected to clearly outline functionality of acquiring data\n",
    "\n",
    "## Some Notes about get_acoustic_data\n",
    "- There is a function get_acoustic_data_mp which uses multiprocessing. This function calls get_acoustic_data (which does not use multiprocessing.\n",
    "- no filter is used for this example"
   ]
  },
  {
   "cell_type": "code",
   "execution_count": 1,
   "metadata": {},
   "outputs": [],
   "source": [
    "import numpy as np\n",
    "from matplotlib import pyplot as plt\n",
    "import datetime\n",
    "import ooi_data_processing_library as ooilib\n",
    "\n",
    "# Some more magic so that the notebook will reload external python modules;\n",
    "# see http://stackoverflow.com/questions/1907993/autoreload-of-modules-in-ipython\n",
    "%load_ext autoreload\n",
    "%autoreload 2"
   ]
  },
  {
   "cell_type": "code",
   "execution_count": 3,
   "metadata": {
    "tags": []
   },
   "outputs": [
    {
     "output_type": "stream",
     "name": "stdout",
     "text": "type:  <class 'obspy.core.trace.Trace'> \n\nacoustic data:  OO.HYVM2..YDH | 2016-10-06T00:00:00.000000Z - 2016-10-06T00:05:00.000000Z | 64000.0 Hz, 19200001 samples \n\nstats:           network: OO\n         station: HYVM2\n        location: \n         channel: YDH\n       starttime: 2016-10-06T00:00:00.000000Z\n         endtime: 2016-10-06T00:05:00.000000Z\n   sampling_rate: 64000.0\n           delta: 1.5625e-05\n            npts: 19200001\n           calib: 1.0\n         _format: MSEED\n           mseed: AttribDict({'dataquality': 'D', 'number_of_records': 6816, 'encoding': 'STEIM2', 'byteorder': '>', 'record_length': 4096, 'filesize': 27918336})\n      processing: ['ObsPy 1.2.1: trim(endtime=UTCDateTime(2016, 10, 6, 0, 5)::fill_value=None::nearest_sample=True::pad=False::starttime=UTCDateTime(2016, 10, 6, 0, 0))'] \n\ndata:  [-23994.         -23951.         -23779.         ..., -23547.74121406\n -23547.37060703 -23547.        ] \n\n"
    }
   ],
   "source": [
    "# get data using get_acoustic_data function\n",
    "# starttime, endtime, and node have to be specified.\n",
    "start_time = datetime.datetime(2016,10,6,0,0,0) # time of first sample\n",
    "end_time = datetime.datetime(2016,10,6,0,5,0) # time of last sample\n",
    "ooi1 = ooilib.OOIHydrophoneData()\n",
    "ooi1.get_acoustic_data_conc(starttime=start_time, endtime=end_time, node='/PC01A', fmin=None, fmax=None)\n",
    "print('type: ', type(ooi1.data), '\\n')\n",
    "print('acoustic data: ', ooi1.data, '\\n')\n",
    "print('stats: ', ooi1.data.stats, '\\n')\n",
    "print('data: ', ooi1.data.data, '\\n')"
   ]
  },
  {
   "cell_type": "code",
   "execution_count": null,
   "metadata": {},
   "outputs": [],
   "source": []
  }
 ],
 "metadata": {
  "kernelspec": {
   "display_name": "Python 3.7.7 64-bit ('ooi': conda)",
   "language": "python",
   "name": "python_defaultSpec_1597431706559"
  },
  "language_info": {
   "codemirror_mode": {
    "name": "ipython",
    "version": 3
   },
   "file_extension": ".py",
   "mimetype": "text/x-python",
   "name": "python",
   "nbconvert_exporter": "python",
   "pygments_lexer": "ipython3",
   "version": "3.7.7-final"
  }
 },
 "nbformat": 4,
 "nbformat_minor": 4
}